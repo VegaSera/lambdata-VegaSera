{
  "nbformat": 4,
  "nbformat_minor": 0,
  "metadata": {
    "colab": {
      "name": "Untitled1.ipynb",
      "provenance": [],
      "toc_visible": true,
      "include_colab_link": true
    },
    "kernelspec": {
      "name": "python3",
      "display_name": "Python 3"
    },
    "accelerator": "GPU"
  },
  "cells": [
    {
      "cell_type": "markdown",
      "metadata": {
        "id": "view-in-github",
        "colab_type": "text"
      },
      "source": [
        "<a href=\"https://colab.research.google.com/github/VegaSera/lambdata-VegaSera/blob/master/module_test.ipynb\" target=\"_parent\"><img src=\"https://colab.research.google.com/assets/colab-badge.svg\" alt=\"Open In Colab\"/></a>"
      ]
    },
    {
      "cell_type": "markdown",
      "metadata": {
        "id": "GH0JYuzqmJCr",
        "colab_type": "heading"
      },
      "source": [
        ""
      ]
    },
    {
      "cell_type": "code",
      "metadata": {
        "id": "zgCA-2nRfiNL",
        "colab_type": "code",
        "colab": {}
      },
      "source": [
        "import pandas as pd\n",
        "\n",
        "df = pd.read_csv('https://drive.google.com/uc?export=download&id=13_tP9JpLcZHSPVpWcua4t2rY44K_s4H5')"
      ],
      "execution_count": 0,
      "outputs": []
    },
    {
      "cell_type": "code",
      "metadata": {
        "id": "oF637LtEfr5_",
        "colab_type": "code",
        "outputId": "282981b9-2cac-4abe-c6ab-20104c7d616a",
        "colab": {
          "base_uri": "https://localhost:8080/",
          "height": 34
        }
      },
      "source": [
        "df.shape"
      ],
      "execution_count": 2,
      "outputs": [
        {
          "output_type": "execute_result",
          "data": {
            "text/plain": [
              "(51916, 17)"
            ]
          },
          "metadata": {
            "tags": []
          },
          "execution_count": 2
        }
      ]
    },
    {
      "cell_type": "code",
      "metadata": {
        "id": "PZfP00tCfvcW",
        "colab_type": "code",
        "outputId": "5cb988a9-aa81-48fb-aaa3-38449174210e",
        "colab": {
          "base_uri": "https://localhost:8080/",
          "height": 102
        }
      },
      "source": [
        "!pip install -i https://test.pypi.org/simple/ VegaSera-lambdata==0.0.4"
      ],
      "execution_count": 5,
      "outputs": [
        {
          "output_type": "stream",
          "text": [
            "Looking in indexes: https://test.pypi.org/simple/\n",
            "Collecting VegaSera-lambdata==0.0.4\n",
            "  Downloading https://test-files.pythonhosted.org/packages/d3/47/b76fc36e1725262eb3737c84ea28da9979d1841243b0772dca81a8d23834/VegaSera_lambdata-0.0.4-py3-none-any.whl\n",
            "Installing collected packages: VegaSera-lambdata\n",
            "Successfully installed VegaSera-lambdata-0.0.4\n"
          ],
          "name": "stdout"
        }
      ]
    },
    {
      "cell_type": "code",
      "metadata": {
        "id": "cG3QnMfggCgt",
        "colab_type": "code",
        "colab": {}
      },
      "source": [
        "from my_lambdata.my_mod import DataFrameSplitter"
      ],
      "execution_count": 0,
      "outputs": []
    },
    {
      "cell_type": "code",
      "metadata": {
        "id": "yavWcPHo2AX7",
        "colab_type": "code",
        "colab": {}
      },
      "source": [
        "x, y, z = DataFrameSplitter(df).tvt_split()"
      ],
      "execution_count": 0,
      "outputs": []
    },
    {
      "cell_type": "code",
      "metadata": {
        "id": "xU1PrSwk2pts",
        "colab_type": "code",
        "outputId": "af7851fc-893e-4758-d21b-8c6b92a95c68",
        "colab": {
          "base_uri": "https://localhost:8080/",
          "height": 34
        }
      },
      "source": [
        "x.shape, y.shape, z.shape"
      ],
      "execution_count": 9,
      "outputs": [
        {
          "output_type": "execute_result",
          "data": {
            "text/plain": [
              "((41534, 17), (5191, 17), (5191, 17))"
            ]
          },
          "metadata": {
            "tags": []
          },
          "execution_count": 9
        }
      ]
    }
  ]
}